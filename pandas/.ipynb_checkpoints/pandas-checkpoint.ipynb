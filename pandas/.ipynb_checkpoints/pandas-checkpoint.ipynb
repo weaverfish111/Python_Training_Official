{
 "cells": [
  {
   "cell_type": "markdown",
   "metadata": {},
   "source": [
    "# Jupyter Notebook introduction\n",
    "\n",
    "We'll start off with a very brief introduction on the basics of using Jupyter notebooks. If you're already familiar with Jupyter notebooks feel free to skip to the [next section](#Pandas).\n",
    "\n",
    "### Notebook cells\n",
    "\n",
    "A notebook consists of a sequence of cells. A cell is a multi-line text input field, and its contents can be executed by typing `Shift-Enter`, or by clicking the `Run` button in the toolbar. What exactly this does depends on the type of cell. There are four types of cells: *code cells*, *markdown cells*, *raw cells* and *heading cells*. We will only focus on the first 2; code and markdown. Every cell starts off being a code cell, but its type can be changed by using a dropdown on the toolbar (which will be `Code`, initially).\n",
    "\n",
    "In a code cell you can write *Python* code. When you run that cell (click on it and press `Shift-Enter`) the code in the cell will run, and the output of the cell will be displayed beneath the cell. Lets try out a very simple code cell below"
   ]
  },
  {
   "cell_type": "code",
   "execution_count": null,
   "metadata": {},
   "outputs": [],
   "source": [
    "x = 5\n",
    "x = x + 2\n",
    "print(x)"
   ]
  },
  {
   "cell_type": "markdown",
   "metadata": {},
   "source": [
    "This produces the output you might expect, the exact the same result as executing that bit of *Python* code in a terminal. You can modify the contents of the code cell and run it again with `Shift-Enter` to see how the output changes.\n",
    "\n",
    "Global variables are shared between cells. This means we can still use variables or functions from the first cell in a second cell, like so"
   ]
  },
  {
   "cell_type": "code",
   "execution_count": null,
   "metadata": {},
   "outputs": [],
   "source": [
    "y = 2 * x\n",
    "print(y)"
   ]
  },
  {
   "cell_type": "markdown",
   "metadata": {},
   "source": [
    "Notebooks are expected to be run top to bottom, starting with the first cell and ending with the last. **Failing to run some cells or running cells out of order is likely to result in errors.** For example, if we were to run the second cell before the first has been run the first, we would get an error saying `x` is not defined\n",
    "\n",
    "### Markdown\n",
    "\n",
    "You can also create cells containing only text (like this cell you're reading right now). For this we use a language called *Markdown*. *Markdown* is a simple way to format text using some extra symbols like asterisks (`*`) and underscores (`_`). You can do a simple [10 minute tutorial](http://www.markdowntutorial.com) or reference the [CheatSheet](http://commonmark.org/help/) for the available commands.\n",
    "\n",
    "If you set a notebook cell as a *Markdown* cell, you can write *Markdown* directly in the cell. When you run this cell, the markdown will be formatted to the *rich text*. if you **double-click** the *rich text*, you can go back to editing the markdown code. All these assignment texts are *Markdown* cells.\n",
    "\n",
    "You can for instance double click on this cell and see for yourself what the *Markdown* looks like."
   ]
  },
  {
   "cell_type": "markdown",
   "metadata": {
    "nbgrader": {
     "checksum": "6303765b70eecd1da63039ff66ece9a7",
     "grade": false,
     "grade_id": "cell-e156d3a02cc85105",
     "locked": true,
     "schema_version": 3,
     "solution": false,
     "task": false
    }
   },
   "source": [
    "# Pandas\n",
    "<a id=\"Pandas\"></a>\n",
    "\n",
    "In this series of exercises you will learn to use the library `pandas`. Pandas is a very popular library for storing and manipualting data. We will be relying on the [Python Data Science Handbook](https://jakevdp.github.io/PythonDataScienceHandbook/)."
   ]
  },
  {
   "cell_type": "markdown",
   "metadata": {
    "nbgrader": {
     "checksum": "97718693d7af5170946ee0313a76fe45",
     "grade": false,
     "grade_id": "cell-e293e349bf745fb4",
     "locked": true,
     "schema_version": 3,
     "solution": false,
     "task": false
    }
   },
   "source": [
    "## Series \n",
    "\n",
    "Start by reading the introduction of `panda` objects [here](https://jakevdp.github.io/PythonDataScienceHandbook/03.01-introducing-pandas-objects.html).\n",
    "\n",
    "Then, run the cell below to import the necessary libraries. In our distribution, we've also included a file named `answers.py`, which we will also import below. After each set of exercises, a function from `answers.py` is called that will check your answers and provide feedback in the form of assertions."
   ]
  },
  {
   "cell_type": "code",
   "execution_count": null,
   "metadata": {},
   "outputs": [],
   "source": [
    "from pandas import Series\n",
    "import pandas as pd\n",
    "import answers"
   ]
  },
  {
   "cell_type": "markdown",
   "metadata": {
    "nbgrader": {
     "checksum": "97718693d7af5170946ee0313a76fe45",
     "grade": false,
     "grade_id": "cell-e293e349bf745fb4",
     "locked": true,
     "schema_version": 3,
     "solution": false,
     "task": false
    }
   },
   "source": [
    "### Exercise 1\n",
    "\n",
    "Create a `Series`-object named `income` containing the following *figures* and using the *sources* as its index."
   ]
  },
  {
   "cell_type": "code",
   "execution_count": null,
   "metadata": {
    "nbgrader": {
     "checksum": "98b15fc1c5cc100394ed9d5b06b9acac",
     "grade": false,
     "grade_id": "cell-08d1e678831a6cb7",
     "locked": false,
     "schema_version": 3,
     "solution": true,
     "task": false
    }
   },
   "outputs": [],
   "source": [
    "from pandas import Series\n",
    "import pandas as pd\n",
    "\n",
    "income_sources = [\"sales\", \"ads\", \"subscriptions\", \"donations\"]\n",
    "income_figures = [39041, 8702, 13200, 292]\n",
    "\n",
    "income = None\n",
    "\n",
    "### YOUR CODE HERE\n",
    "\n",
    "display(income)"
   ]
  },
  {
   "cell_type": "markdown",
   "metadata": {},
   "source": [
    "Check your answer by running the cell below."
   ]
  },
  {
   "cell_type": "code",
   "execution_count": null,
   "metadata": {},
   "outputs": [],
   "source": [
    "answers.test_1(income)"
   ]
  },
  {
   "cell_type": "markdown",
   "metadata": {},
   "source": [
    "### Exercise 2\n",
    "\n",
    "Create a `Series` named `expenses` that uses the expense information below. Also create a `Series` named `profits` with the profit (income minus expenses). Create a variable named `total_profit` with the sum of all profits in `profits`."
   ]
  },
  {
   "cell_type": "code",
   "execution_count": null,
   "metadata": {},
   "outputs": [],
   "source": [
    "expense_sources = [\"ads\", \"sales\", \"donations\", \"subscriptions\"]\n",
    "expense_figures = [4713, 24282, 0, 3302]\n",
    "\n",
    "### YOUR CODE HERE\n",
    "\n",
    "print(total_profit)"
   ]
  },
  {
   "cell_type": "code",
   "execution_count": null,
   "metadata": {},
   "outputs": [],
   "source": [
    "answers.test_2(expenses, profits, total_profit)"
   ]
  },
  {
   "cell_type": "markdown",
   "metadata": {
    "nbgrader": {
     "checksum": "d3475e598b672ebd549033c2492a70e3",
     "grade": false,
     "grade_id": "cell-db980f180e853f8a",
     "locked": true,
     "schema_version": 3,
     "solution": false,
     "task": false
    }
   },
   "source": [
    "## DataFrames\n",
    "\n",
    "### Exercise 3\n",
    "\n",
    "Create a `DataFrame` named `skittles` with the *columns* `amount` and `rating`, using the different colors as the *index*.\n",
    "\n",
    "|&nbsp;      | amount | rating |\n",
    "|------------|--------|--------|\n",
    "| **red**    | 7      | 3      |\n",
    "| **green**  | 4      | 4      |\n",
    "| **blue**   | 6      | 2      |\n",
    "| **purple** | 5      | 4      |\n",
    "| **pink**   | 6      | 3.5    |\n",
    "\n",
    "Using `Jupyter`'s `display()` makes sure we get a nicely formatted table."
   ]
  },
  {
   "cell_type": "code",
   "execution_count": null,
   "metadata": {
    "nbgrader": {
     "checksum": "1a60a147b1b86e6315e94336a18eff17",
     "grade": false,
     "grade_id": "cell-9c6637d8f47dcc08",
     "locked": false,
     "schema_version": 3,
     "solution": true,
     "task": false
    }
   },
   "outputs": [],
   "source": [
    "from pandas import DataFrame\n",
    "\n",
    "### YOUR CODE HERE\n",
    "\n",
    "display(skittles)"
   ]
  },
  {
   "cell_type": "code",
   "execution_count": null,
   "metadata": {
    "nbgrader": {
     "checksum": "93b3e1784074495414ab6f4a25c18dd0",
     "grade": true,
     "grade_id": "cell-1c954e8d9484f4be",
     "locked": true,
     "points": 1,
     "schema_version": 3,
     "solution": false,
     "task": false
    }
   },
   "outputs": [],
   "source": [
    "answers.test_3(skittles)"
   ]
  },
  {
   "cell_type": "markdown",
   "metadata": {},
   "source": [
    "### Exercise 4\n",
    "\n",
    "Calculate the mean `rating` and save as `skittles_average`."
   ]
  },
  {
   "cell_type": "code",
   "execution_count": null,
   "metadata": {},
   "outputs": [],
   "source": [
    "### YOUR CODE HERE\n",
    "\n",
    "display(skittles_average)"
   ]
  },
  {
   "cell_type": "code",
   "execution_count": null,
   "metadata": {
    "nbgrader": {
     "checksum": "9feb3280046320ce313613afef3e6c29",
     "grade": true,
     "grade_id": "cell-4a63780e28d4318f",
     "locked": true,
     "points": 1,
     "schema_version": 3,
     "solution": false,
     "task": false
    }
   },
   "outputs": [],
   "source": [
    "answers.test_4(skittles_average)"
   ]
  },
  {
   "cell_type": "markdown",
   "metadata": {
    "nbgrader": {
     "checksum": "61fd71b18d322f9c65402c62fcfcc323",
     "grade": false,
     "grade_id": "cell-39f6de36e08a7146",
     "locked": true,
     "schema_version": 3,
     "solution": false,
     "task": false
    }
   },
   "source": [
    "### Exercise 5\n",
    "\n",
    "Add a new column to the skittles `DataFrame` named `score`. The score of a color is equal to `amount * rating`."
   ]
  },
  {
   "cell_type": "code",
   "execution_count": null,
   "metadata": {
    "nbgrader": {
     "checksum": "d1766fd2403b0274b9af456003f45943",
     "grade": false,
     "grade_id": "cell-44c741b6c7562337",
     "locked": false,
     "schema_version": 3,
     "solution": true,
     "task": false
    }
   },
   "outputs": [],
   "source": [
    "### YOUR CODE HERE\n",
    "display(skittles)"
   ]
  },
  {
   "cell_type": "code",
   "execution_count": null,
   "metadata": {
    "nbgrader": {
     "checksum": "c7cb61b2a66981b7361c496198d870a7",
     "grade": true,
     "grade_id": "cell-8d4b31a62e056a4c",
     "locked": true,
     "points": 1,
     "schema_version": 3,
     "solution": false,
     "task": false
    }
   },
   "outputs": [],
   "source": [
    "assert \"score\" in skittles"
   ]
  },
  {
   "cell_type": "markdown",
   "metadata": {
    "nbgrader": {
     "checksum": "2ff7baac42a279709318f83e8b991a55",
     "grade": false,
     "grade_id": "cell-cc6978bc2a03800b",
     "locked": true,
     "schema_version": 3,
     "solution": false,
     "task": false
    }
   },
   "source": [
    "## Indexing and selection\n",
    "\n",
    "Read the [next](https://jakevdp.github.io/PythonDataScienceHandbook/03.02-data-indexing-and-selection.html) part of the reference.\n",
    "\n",
    "### Exercise 6\n",
    "\n",
    "For the given `DataFrame` select only columns 'a', 'c', and 'e', and rows 10, 20, 50, 60 and store the result again in the variable `frame`. As a clarification, the original `DataFrame` looks like:\n",
    "\n",
    "<table border=\"1\" class=\"dataframe\">  <thead>    <tr style=\"text-align: right;\">      <th></th>      <th>a</th>      <th>b</th>      <th>c</th>      <th>d</th>      <th>e</th>      <th>f</th>      <th>g</th>    </tr>  </thead>  <tbody>    <tr>      <th>10</th>      <td>0.0</td>      <td>1.0</td>      <td>2.0</td>      <td>3.0</td>      <td>4.0</td>      <td>5.0</td>      <td>6.0</td>    </tr>    <tr>      <th>20</th>      <td>7.0</td>      <td>8.0</td>      <td>9.0</td>      <td>10.0</td>      <td>11.0</td>      <td>12.0</td>      <td>13.0</td>    </tr>    <tr>      <th>30</th>      <td>14.0</td>      <td>15.0</td>      <td>16.0</td>      <td>17.0</td>      <td>18.0</td>      <td>19.0</td>      <td>20.0</td>    </tr>    <tr>      <th>40</th>      <td>21.0</td>      <td>22.0</td>      <td>23.0</td>      <td>24.0</td>      <td>25.0</td>      <td>26.0</td>      <td>27.0</td>    </tr>    <tr>      <th>50</th>      <td>28.0</td>      <td>29.0</td>      <td>30.0</td>      <td>31.0</td>      <td>32.0</td>      <td>33.0</td>      <td>34.0</td>    </tr>    <tr>      <th>60</th>      <td>35.0</td>      <td>36.0</td>      <td>37.0</td>      <td>38.0</td>      <td>39.0</td>      <td>40.0</td>      <td>41.0</td>    </tr>  </tbody></table>\n",
    "\n",
    "Re-index such that it looks like:\n",
    "\n",
    "<table border=\"1\" class=\"dataframe\">  <thead>    <tr style=\"text-align: right;\">      <th></th>      <th>a</th>      <th>c</th>      <th>e</th>    </tr>  </thead>  <tbody>    <tr>      <th>10</th>      <td>0.0</td>      <td>2.0</td>      <td>4.0</td>    </tr>    <tr>      <th>20</th>      <td>7.0</td>      <td>9.0</td>      <td>11.0</td>    </tr>    <tr>      <th>50</th>      <td>28.0</td>      <td>30.0</td>      <td>32.0</td>    </tr>    <tr>      <th>60</th>      <td>35.0</td>      <td>37.0</td>      <td>39.0</td>    </tr>  </tbody></table>\n"
   ]
  },
  {
   "cell_type": "code",
   "execution_count": null,
   "metadata": {
    "nbgrader": {
     "checksum": "167d76c1ba7f91d54422e3ab17e37aac",
     "grade": false,
     "grade_id": "cell-a7305488e1ae7000",
     "locked": false,
     "schema_version": 3,
     "solution": true,
     "task": false
    }
   },
   "outputs": [],
   "source": [
    "import numpy as np\n",
    "\n",
    "frame = DataFrame(np.arange(6 * 7.).reshape((6, 7)), index=[10, 20, 30, 40, 50, 60], columns=list('abcdefg'))\n",
    "\n",
    "### YOUR CODE HERE\n",
    "\n",
    "display(frame2)"
   ]
  },
  {
   "cell_type": "code",
   "execution_count": null,
   "metadata": {
    "nbgrader": {
     "checksum": "33c82d48c58b8d8dc015e0801d90c413",
     "grade": true,
     "grade_id": "cell-6cf72e8c3526a88a",
     "locked": true,
     "points": 1,
     "schema_version": 3,
     "solution": false,
     "task": false
    }
   },
   "outputs": [],
   "source": [
    "answers.test_6(frame2)"
   ]
  },
  {
   "cell_type": "markdown",
   "metadata": {
    "nbgrader": {
     "checksum": "f1343005244befb8666ece4c506ad209",
     "grade": false,
     "grade_id": "cell-1ff423e018fe6b17",
     "locked": true,
     "schema_version": 3,
     "solution": false,
     "task": false
    }
   },
   "source": [
    "### Exercise 7\n",
    "\n",
    "Replace all values in the data frame `frame` that are *divisible by 3* with the value *0*. Store the result in `frame`."
   ]
  },
  {
   "cell_type": "code",
   "execution_count": null,
   "metadata": {
    "nbgrader": {
     "checksum": "e75a8c44cfece966c5140a6ec0e2b5e0",
     "grade": false,
     "grade_id": "cell-a0d227a359b7a2d8",
     "locked": false,
     "schema_version": 3,
     "solution": true,
     "task": false
    }
   },
   "outputs": [],
   "source": [
    "frame = DataFrame(np.arange(6 * 7.).reshape((6, 7)), index=[10, 20, 30, 40, 50, 60], columns=list('abcdefg'))\n",
    "\n",
    "### YOUR CODE HERE\n",
    "\n",
    "display(frame)"
   ]
  },
  {
   "cell_type": "code",
   "execution_count": null,
   "metadata": {
    "nbgrader": {
     "checksum": "19f3c4111ab5702b1c04326cd3aca8c4",
     "grade": true,
     "grade_id": "cell-d3178809b040bf79",
     "locked": true,
     "points": 1,
     "schema_version": 3,
     "solution": false,
     "task": false
    }
   },
   "outputs": [],
   "source": [
    "answers.test_7(frame)"
   ]
  },
  {
   "cell_type": "markdown",
   "metadata": {
    "nbgrader": {
     "checksum": "c5212fb0408efb906a38f05e1ebbd95a",
     "grade": false,
     "grade_id": "cell-b0cc2afba8d064b6",
     "locked": true,
     "schema_version": 3,
     "solution": false,
     "task": false
    }
   },
   "source": [
    "## Operating on dataframes\n",
    "\n",
    "Read about [operations in pandas](https://jakevdp.github.io/PythonDataScienceHandbook/03.03-operations-in-pandas.html).\n",
    "\n",
    "### Exercise 8\n",
    "\n",
    "Create a `Series` named `series_c` with the result of the calculation `series_a - series_b`. Note that `series_a` and `series_b` do not use the same indexing. Replace any missing values in `series_b` with 0. Values that are in `series_b` but not in `series_a` need not be in `series_c`."
   ]
  },
  {
   "cell_type": "code",
   "execution_count": null,
   "metadata": {
    "nbgrader": {
     "checksum": "50ec87a5ca04f171f8d524f3af2ffded",
     "grade": false,
     "grade_id": "cell-65a850d571a08e13",
     "locked": false,
     "schema_version": 3,
     "solution": true,
     "task": false
    }
   },
   "outputs": [],
   "source": [
    "series_a = Series([500, 400, 300, 200, 100], index=[\"a\", \"b\", \"c \", \"d\", \"e\"])\n",
    "series_b = Series([23, 46, 67, 79], index=[\"a\", \"c \", \"f\", \"g\"])\n",
    "series_c = None\n",
    "\n",
    "### YOUR CODE HERE\n",
    "\n",
    "display(series_c)"
   ]
  },
  {
   "cell_type": "code",
   "execution_count": null,
   "metadata": {},
   "outputs": [],
   "source": [
    "answers.test_8(series_a, series_b, series_c)"
   ]
  },
  {
   "cell_type": "markdown",
   "metadata": {},
   "source": [
    "## Map\n",
    "\n",
    "`pandas` has it's own `map()` function! As expected, it maps a function to every element of a `Series` or `DataFrame` and gives back a new `Series` or `DataFrame`. As an example:\n",
    "\n",
    "```Py\n",
    "tokens = Series([\"hello\", \" \", \"world!\"])\n",
    "\n",
    "lengths = []\n",
    "for token in tokens:\n",
    "    lengths.append(len(token))\n",
    "lenghts = Series(lengths)\n",
    "```\n",
    "\n",
    "Can be converted to:\n",
    "\n",
    "```Py\n",
    "tokens = Series([\"hello\", \" \", \"world!\"])\n",
    "lengths = tokens.map(len)\n",
    "```\n",
    "\n",
    "### Exercise 9\n",
    "\n",
    "Convert all words in the `Series` `words` to lowercase. Use `str.lower()`."
   ]
  },
  {
   "cell_type": "code",
   "execution_count": null,
   "metadata": {},
   "outputs": [],
   "source": [
    "words = Series([\"foo\", \"Bar\", \"baz\", \"QUX\", \"QuUuX\"])\n",
    "\n",
    "### YOUR CODE HERE\n",
    "\n",
    "display(words)"
   ]
  },
  {
   "cell_type": "code",
   "execution_count": null,
   "metadata": {},
   "outputs": [],
   "source": [
    "answers.test_9(words)"
   ]
  },
  {
   "cell_type": "markdown",
   "metadata": {},
   "source": [
    "### Exercise 10\n",
    "\n",
    "Sort `frame` on column `c` in descending order and store the solution in `frame`."
   ]
  },
  {
   "cell_type": "code",
   "execution_count": null,
   "metadata": {},
   "outputs": [],
   "source": [
    "data = [[0.691074, -1.272521, -0.968045, -2.066171, -0.670358, 1.399483, -1.148168], \n",
    "        [1.75378, 2.409629, 1.842674, 0.754906, -0.115614, 0.877219, 1.599362], \n",
    "        [-1.41176, 1.103801, 1.216514, 0.548866, 2.255482, -0.176342, 0.965265], \n",
    "        [-0.741689, 0.216645, -0.278025, 0.777175, 0.869239, -0.943004, -0.140957], \n",
    "        [-1.58593, 1.1796, -0.702286, 2.367875, 0.592748, 1.386158, 0.535978], \n",
    "        [0.58498, 0.62389, -0.425614, 0.530479, -1.818631, -1.593188, 1.591233]]\n",
    "\n",
    "frame = DataFrame(data, columns=list('abcdefg'))\n",
    "\n",
    "### YOUR CODE HERE\n",
    "\n",
    "display(frame)"
   ]
  },
  {
   "cell_type": "code",
   "execution_count": null,
   "metadata": {},
   "outputs": [],
   "source": [
    "answers.test_10(frame)"
   ]
  },
  {
   "cell_type": "markdown",
   "metadata": {},
   "source": [
    "## Missing values\n",
    "\n",
    "Read about [Handling Missing Data](https://jakevdp.github.io/PythonDataScienceHandbook/03.04-missing-values.html)\n",
    "\n",
    "### Exercise 11\n",
    "\n",
    "In the `Series` `speeds` below, fill in the missing values. Use the speed from the previous datapoint available that is up to 3 datapoints away. Delete any datapoints that still do not have values afterwards."
   ]
  },
  {
   "cell_type": "code",
   "execution_count": null,
   "metadata": {},
   "outputs": [],
   "source": [
    "speeds = Series(\n",
    "         [49, 51, None, None, 50, 48, 47, 50,\n",
    "          51, 47, 46, None, 46, 48, 48, 48,\n",
    "          None, 49, None, None, None, None,\n",
    "          None, 50, 50, 50, 51, 52, 51, 50,\n",
    "          None, 50, None, None, None, None,\n",
    "          None, 50, 49, 48, 49, None, 50, 50, 49])\n",
    "\n",
    "### YOUR CODE HERE\n",
    "\n",
    "display(speeds)"
   ]
  },
  {
   "cell_type": "code",
   "execution_count": null,
   "metadata": {},
   "outputs": [],
   "source": [
    "answers.test_11(speeds)"
   ]
  }
 ],
 "metadata": {
  "kernelspec": {
   "display_name": "Python 3",
   "language": "python",
   "name": "python3"
  },
  "language_info": {
   "codemirror_mode": {
    "name": "ipython",
    "version": 3
   },
   "file_extension": ".py",
   "mimetype": "text/x-python",
   "name": "python",
   "nbconvert_exporter": "python",
   "pygments_lexer": "ipython3",
   "version": "3.8.8"
  }
 },
 "nbformat": 4,
 "nbformat_minor": 2
}
